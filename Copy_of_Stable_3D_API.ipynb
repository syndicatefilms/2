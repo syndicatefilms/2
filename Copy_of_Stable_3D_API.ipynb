{
  "cells": [
    {
      "cell_type": "markdown",
      "metadata": {
        "id": "view-in-github",
        "colab_type": "text"
      },
      "source": [
        "<a href=\"https://colab.research.google.com/github/syndicatefilms/2/blob/main/Copy_of_Stable_3D_API.ipynb\" target=\"_parent\"><img src=\"https://colab.research.google.com/assets/colab-badge.svg\" alt=\"Open In Colab\"/></a>"
      ]
    },
    {
      "cell_type": "code",
      "execution_count": null,
      "metadata": {
        "id": "F5_PrjeRDnNl"
      },
      "outputs": [],
      "source": [
        "#@title Enter your Stability API key\n",
        "\n",
        "import getpass\n",
        "# @markdown To get your API key visit https://platform.stability.ai/account/keys\n",
        "STABILITY_KEY = getpass.getpass('sk-qkMh4TBrKXVcuTlOLxitAD4uBt76cACgaA2CrcgeqWLUmC3z')"
      ]
    },
    {
      "cell_type": "code",
      "source": [],
      "metadata": {
        "id": "ed9EyJSoJTVu"
      },
      "execution_count": null,
      "outputs": []
    },
    {
      "cell_type": "code",
      "execution_count": null,
      "metadata": {
        "id": "oVaB2KLvDnNm"
      },
      "outputs": [],
      "source": [
        "#@title Utility functions definitions\n",
        "import base64\n",
        "import requests\n",
        "from IPython.display import display, HTML\n",
        "from PIL import Image\n",
        "from google.colab import output\n",
        "\n",
        "def display_glb(file_path):\n",
        "    with open(file_path, \"rb\") as file:\n",
        "        glb_base64 = base64.b64encode(file.read()).decode('utf-8')\n",
        "\n",
        "    html_content = f\"\"\"\n",
        "    <html>\n",
        "      <head>\n",
        "        <script src=\"https://cdnjs.cloudflare.com/ajax/libs/three.js/r128/three.min.js\"></script>\n",
        "        <script src=\"https://cdn.jsdelivr.net/npm/three@0.128.0/examples/js/loaders/GLTFLoader.js\"></script>\n",
        "        <script src=\"https://cdn.jsdelivr.net/npm/three@0.128.0/examples/js/controls/OrbitControls.js\"></script>\n",
        "      </head>\n",
        "      <body>\n",
        "        <div id=\"container\" style=\"width: 500px; height: 500px;\"></div>\n",
        "        <script>\n",
        "          const scene = new THREE.Scene();\n",
        "          const camera = new THREE.PerspectiveCamera(75, 1, 0.1, 1000);\n",
        "          const renderer = new THREE.WebGLRenderer({{antialias: true}});\n",
        "          renderer.setSize(500, 500);\n",
        "          renderer.setClearColor(0x404040);\n",
        "          document.getElementById('container').appendChild(renderer.domElement);\n",
        "\n",
        "          const controls = new THREE.OrbitControls(camera, renderer.domElement);\n",
        "          controls.enableDamping = true;\n",
        "          controls.dampingFactor = 0.25;\n",
        "          controls.enableZoom = true;\n",
        "\n",
        "          const ambientLight = new THREE.AmbientLight(0xffffff, 0.5);\n",
        "          scene.add(ambientLight);\n",
        "          const directionalLight = new THREE.DirectionalLight(0xffffff, 0.6);\n",
        "          directionalLight.position.set(0.5, 1, -1.5);\n",
        "          scene.add(directionalLight);\n",
        "\n",
        "          const loader = new THREE.GLTFLoader();\n",
        "          const glbData = atob('{glb_base64}');\n",
        "          const glbBuffer = new Uint8Array(glbData.length);\n",
        "          for (let i = 0; i < glbData.length; i++) {{\n",
        "            glbBuffer[i] = glbData.charCodeAt(i);\n",
        "          }}\n",
        "\n",
        "          loader.parse(glbBuffer.buffer, '', (gltf) => {{\n",
        "            scene.add(gltf.scene);\n",
        "\n",
        "            const box = new THREE.Box3().setFromObject(gltf.scene);\n",
        "            const center = box.getCenter(new THREE.Vector3());\n",
        "            const size = box.getSize(new THREE.Vector3());\n",
        "            const maxDim = Math.max(size.x, size.y, size.z);\n",
        "\n",
        "            const fov = camera.fov * (Math.PI / 180);\n",
        "            let cameraZ = Math.abs(maxDim / 2 / Math.tan(fov / 2));\n",
        "            camera.position.z = cameraZ * -1.5;\n",
        "            camera.lookAt(center);\n",
        "\n",
        "            controls.target.copy(center);\n",
        "            controls.update();\n",
        "\n",
        "            function animate() {{\n",
        "              requestAnimationFrame(animate);\n",
        "              controls.update();\n",
        "              renderer.render(scene, camera);\n",
        "            }}\n",
        "            animate();\n",
        "          }}, undefined, (error) => {{\n",
        "            console.error('Error loading GLB:', error);\n",
        "          }});\n",
        "        </script>\n",
        "      </body>\n",
        "    </html>\n",
        "    \"\"\"\n",
        "    display(HTML(html_content))\n",
        "\n",
        "def image_to_3d(host,\n",
        "                image_path,\n",
        "                **kwargs\n",
        "                ):\n",
        "    print(f\"Sending REST request to {host}...\")\n",
        "    response = requests.post(\n",
        "        host,\n",
        "        headers={\"Authorization\": f\"Bearer {STABILITY_KEY}\"},\n",
        "        files={\"image\": open(image_path, 'rb')},\n",
        "        data=kwargs\n",
        "    )\n",
        "    if not response.ok:\n",
        "        raise Exception(f\"HTTP {response.status_code}: {response.text}\")\n",
        "\n",
        "    return response"
      ]
    },
    {
      "cell_type": "code",
      "execution_count": null,
      "metadata": {
        "id": "vvJoSuXdDnNm"
      },
      "outputs": [],
      "source": [
        "#@title Stable Fast 3D\n",
        "\n",
        "# @markdown - Drag and drop image to file folder on left\n",
        "# @markdown - Right click it and choose Copy path\n",
        "# @markdown - Paste that path into image field below\n",
        "# @markdown <br><br>\n",
        "\n",
        "image = \"/content/cat_statue.jpg\" #@param {type:\"string\"}\n",
        "texture_resolution = \"1024\" #@param ['512', '1024', '2048'] {type:\"string\"}\n",
        "foreground_ratio = 0.85 #@param {type:'slider', min:0.1, max:1.0, step:0.05 }\n",
        "remesh = 'none' #@param ['none', 'quad', 'triangle'] {type:\"string\"}\n",
        "vertex_count = -1 #@param {type:\"number\"}\n",
        "\n",
        "host = \"https://api.stability.ai/v2beta/3d/stable-fast-3d\"\n",
        "\n",
        "response = image_to_3d(\n",
        "    host=host,\n",
        "    image_path=image,\n",
        "    texture_resolution=texture_resolution,\n",
        "    foreground_ratio=foreground_ratio,\n",
        "    remesh=remesh,\n",
        "    vertex_count=vertex_count\n",
        ")\n",
        "\n",
        "# Save the model\n",
        "filename = f\"model.glb\"\n",
        "with open(filename, \"wb\") as f:\n",
        "    f.write(response.content)\n",
        "print(f\"Saved 3D model {filename}\")\n",
        "\n",
        "# Display the result\n",
        "output.no_vertical_scroll()\n",
        "print(\"Original image:\")\n",
        "thumb = Image.open(image)\n",
        "thumb.thumbnail((256, 256))\n",
        "display(thumb)\n",
        "print(\"3D model result:\")\n",
        "display_glb(filename)\n"
      ]
    },
    {
      "cell_type": "code",
      "execution_count": null,
      "metadata": {
        "cellView": "form",
        "id": "TDWW5DQbDnNo"
      },
      "outputs": [],
      "source": [
        "#@title Stable Point Aware 3D (SPAR3D)\n",
        "\n",
        "#@markdown - Drag and drop image to file folder on left\n",
        "#@markdown - Right click it and choose Copy path\n",
        "#@markdown - Paste that path into image field below\n",
        "#@markdown <br><br>\n",
        "\n",
        "image = \"/content/cat_statue.jpg\" #@param {type:\"string\"}\n",
        "texture_resolution = \"1024\" #@param ['512', '1024', '2048'] {type:\"string\"}\n",
        "foreground_ratio = 1.3 #@param {type:'slider', min:1.0, max:2.0, step:0.05 }\n",
        "remesh = 'none' #@param ['none', 'quad', 'triangle'] {type:\"string\"}\n",
        "target_type = 'none' #@param ['none', 'quad', 'triangle'] {type:\"string\"}\n",
        "target_count = 1000 #@param {type:'slider', min:100, max:20000, step:100 }\n",
        "guidance_scale = 3.0 #@param {type:'slider', min:1.0, max:10.0, step:0.1 }\n",
        "\n",
        "host = \"https://api.stability.ai/v2beta/3d/stable-point-aware-3d\"\n",
        "\n",
        "response = image_to_3d(\n",
        "    host=host,\n",
        "    image_path=image,\n",
        "    texture_resolution=texture_resolution,\n",
        "    foreground_ratio=foreground_ratio,\n",
        "    remesh=remesh,\n",
        "    target_type=target_type,\n",
        "    target_count=target_count,\n",
        "    guidance_scale=guidance_scale\n",
        ")\n",
        "\n",
        "# Save the model\n",
        "filename = f\"model.glb\"\n",
        "with open(filename, \"wb\") as f:\n",
        "    f.write(response.content)\n",
        "print(f\"Saved 3D model {filename}\")\n",
        "\n",
        "# Display the result\n",
        "output.no_vertical_scroll()\n",
        "print(\"Original image:\")\n",
        "thumb = Image.open(image)\n",
        "thumb.thumbnail((256, 256))\n",
        "display(thumb)\n",
        "print(\"3D model result:\")\n",
        "display_glb(filename)"
      ]
    },
    {
      "cell_type": "code",
      "source": [
        "from google.colab import drive\n",
        "drive.mount('/content/drive')"
      ],
      "metadata": {
        "id": "haocllweQtHw"
      },
      "execution_count": null,
      "outputs": []
    }
  ],
  "metadata": {
    "colab": {
      "provenance": [],
      "include_colab_link": true
    },
    "kernelspec": {
      "display_name": "venv",
      "language": "python",
      "name": "python3"
    },
    "language_info": {
      "codemirror_mode": {
        "name": "ipython",
        "version": 3
      },
      "file_extension": ".py",
      "mimetype": "text/x-python",
      "name": "python",
      "nbconvert_exporter": "python",
      "pygments_lexer": "ipython3",
      "version": "3.10.14"
    }
  },
  "nbformat": 4,
  "nbformat_minor": 0
}